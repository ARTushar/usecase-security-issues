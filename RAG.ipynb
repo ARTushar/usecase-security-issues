{
 "cells": [
  {
   "cell_type": "markdown",
   "metadata": {},
   "source": [
    "# Loading PDF file"
   ]
  },
  {
   "cell_type": "code",
   "execution_count": 1,
   "metadata": {},
   "outputs": [],
   "source": [
    "import os\n",
    "from dotenv import load_dotenv"
   ]
  },
  {
   "cell_type": "code",
   "execution_count": 20,
   "metadata": {},
   "outputs": [
    {
     "data": {
      "text/plain": [
       "True"
      ]
     },
     "execution_count": 20,
     "metadata": {},
     "output_type": "execute_result"
    }
   ],
   "source": [
    "pdf_path = 'resources/bss-ch01.pdf'\n",
    "db_path = 'contents'\n",
    "db_name = 'secure_software-ch12'\n",
    "load_dotenv()"
   ]
  },
  {
   "cell_type": "code",
   "execution_count": 4,
   "metadata": {},
   "outputs": [],
   "source": [
    "# from pypdf import PdfReader\n",
    "\n",
    "# def load_pdf(file_path):\n",
    "#     \"\"\"\n",
    "#     Reads the text content from a PDF file and returns it as a single string.\n",
    "\n",
    "#     Parameters:\n",
    "#     - file_path (str): The file path to the PDF file.\n",
    "\n",
    "#     Returns:\n",
    "#     - str: The concatenated text content of all pages in the PDF.\n",
    "\n",
    "#     Raises:\n",
    "#     - FileNotFoundError: If the specified file_path does not exist.\n",
    "#     - PyPDF2.utils.PdfReadError: If the PDF file is encrypted or malformed.\n",
    "\n",
    "#     Example:\n",
    "#     >>> pdf_text = load_pdf(\"example.pdf\")\n",
    "#     >>> print(pdf_text)\n",
    "#     \"This is the text content extracted from the PDF file.\"\n",
    "#     \"\"\"\n",
    "#     # Logic to read pdf\n",
    "#     reader = PdfReader(file_path)\n",
    "\n",
    "#     # Loop over each page and store it in a variable\n",
    "#     text = \"\"\n",
    "#     for page in reader.pages:\n",
    "#         text += page.extract_text()\n",
    "\n",
    "#     return text\n",
    "\n",
    "# text = load_pdf(file_path=pdf_path)"
   ]
  },
  {
   "cell_type": "code",
   "execution_count": 5,
   "metadata": {},
   "outputs": [
    {
     "name": "stdout",
     "output_type": "stream",
     "text": [
      "66897\n"
     ]
    }
   ],
   "source": [
    "# print(len(text))"
   ]
  },
  {
   "cell_type": "code",
   "execution_count": 39,
   "metadata": {},
   "outputs": [],
   "source": [
    "# pdf_text = load_pdf(file_path=pdf_path)"
   ]
  },
  {
   "cell_type": "markdown",
   "metadata": {},
   "source": [
    "# Splitting the text"
   ]
  },
  {
   "cell_type": "code",
   "execution_count": 30,
   "metadata": {},
   "outputs": [],
   "source": [
    "# import re\n",
    "# def split_text(text: str):\n",
    "#     \"\"\"\n",
    "#     Splits a text string into a list of non-empty substrings based on the specified pattern.\n",
    "#     The \"\\n \\n\" pattern will split the document para by para\n",
    "#     Parameters:\n",
    "#     - text (str): The input text to be split.\n",
    "\n",
    "#     Returns:\n",
    "#     - List[str]: A list containing non-empty substrings obtained by splitting the input text.\n",
    "\n",
    "#     \"\"\"\n",
    "#     split_text = re.split('\\n \\n', text)\n",
    "#     return [i for i in split_text if i != \"\"]"
   ]
  },
  {
   "cell_type": "code",
   "execution_count": 40,
   "metadata": {},
   "outputs": [],
   "source": [
    "# text = split_text(pdf_text)"
   ]
  },
  {
   "cell_type": "markdown",
   "metadata": {},
   "source": [
    "# Splitting per page of the pdf"
   ]
  },
  {
   "cell_type": "code",
   "execution_count": 5,
   "metadata": {},
   "outputs": [],
   "source": [
    "import fitz\n",
    "text = []\n",
    "with fitz.open(pdf_path) as doc:\n",
    "    for page in doc:\n",
    "        text.append(page.get_text())\n",
    "    "
   ]
  },
  {
   "cell_type": "markdown",
   "metadata": {},
   "source": []
  },
  {
   "cell_type": "code",
   "execution_count": 18,
   "metadata": {},
   "outputs": [
    {
     "name": "stdout",
     "output_type": "stream",
     "text": [
      "28\n",
      "1548\n"
     ]
    }
   ],
   "source": [
    "print(len(text))\n",
    "print(len(text[0]))\n",
    "with open('temp.txt', 'w') as file:\n",
    "    file.writelines(text)"
   ]
  },
  {
   "cell_type": "markdown",
   "metadata": {},
   "source": [
    "# Embedding the text"
   ]
  },
  {
   "cell_type": "code",
   "execution_count": 6,
   "metadata": {},
   "outputs": [
    {
     "name": "stderr",
     "output_type": "stream",
     "text": [
      "/home/user/anaconda3/envs/rag/lib/python3.9/site-packages/tqdm/auto.py:21: TqdmWarning: IProgress not found. Please update jupyter and ipywidgets. See https://ipywidgets.readthedocs.io/en/stable/user_install.html\n",
      "  from .autonotebook import tqdm as notebook_tqdm\n"
     ]
    }
   ],
   "source": [
    "import google.generativeai as genai\n",
    "from chromadb import Documents, EmbeddingFunction, Embeddings\n",
    "import os\n",
    "\n",
    "class GeminiEmbeddingFunction(EmbeddingFunction):\n",
    "    \"\"\"\n",
    "    Custom embedding function using the Gemini AI API for document retrieval.\n",
    "\n",
    "    This class extends the EmbeddingFunction class and implements the __call__ method\n",
    "    to generate embeddings for a given set of documents using the Gemini AI API.\n",
    "\n",
    "    Parameters:\n",
    "    - input (Documents): A collection of documents to be embedded.\n",
    "\n",
    "    Returns:\n",
    "    - Embeddings: Embeddings generated for the input documents.\n",
    "\n",
    "    Raises:\n",
    "    - ValueError: If the Gemini API Key is not provided as an environment variable (GEMINI_API_KEY).\n",
    "\n",
    "    Example:\n",
    "    >>> gemini_embedding_function = GeminiEmbeddingFunction()\n",
    "    >>> input_documents = Documents([\"Document 1\", \"Document 2\", \"Document 3\"])\n",
    "    >>> embeddings_result = gemini_embedding_function(input_documents)\n",
    "    >>> print(embeddings_result)\n",
    "    Embeddings for the input documents generated by the Gemini AI API.\n",
    "    \"\"\"\n",
    "    def __call__(self, input: Documents) -> Embeddings:\n",
    "        gemini_api_key = os.getenv(\"GEMINI_API_KEY\")\n",
    "        if not gemini_api_key:\n",
    "            raise ValueError(\"Gemini API Key not provided. Please provide GEMINI_API_KEY as an environment variable\")\n",
    "        genai.configure(api_key=gemini_api_key)\n",
    "        model = \"models/embedding-001\"\n",
    "        title = \"Custom query\"\n",
    "        return genai.embed_content(model=model,\n",
    "                                   content=input,\n",
    "                                   task_type=\"retrieval_document\",\n",
    "                                   title=title)[\"embedding\"]\n"
   ]
  },
  {
   "cell_type": "markdown",
   "metadata": {},
   "source": [
    "# Storing vectors into DB"
   ]
  },
  {
   "cell_type": "code",
   "execution_count": 7,
   "metadata": {},
   "outputs": [],
   "source": [
    "import chromadb\n",
    "def create_chroma_db(documents, path, name):\n",
    "    \"\"\"\n",
    "    Creates a Chroma database using the provided documents, path, and collection name.\n",
    "\n",
    "    Parameters:\n",
    "    - documents: An iterable of documents to be added to the Chroma database.\n",
    "    - path (str): The path where the Chroma database will be stored.\n",
    "    - name (str): The name of the collection within the Chroma database.\n",
    "\n",
    "    Returns:\n",
    "    - Tuple[chromadb.Collection, str]: A tuple containing the created Chroma Collection and its name.\n",
    "    \"\"\"\n",
    "    chroma_client = chromadb.PersistentClient(path=path)\n",
    "    db = chroma_client.create_collection(name=name, embedding_function=GeminiEmbeddingFunction())\n",
    "\n",
    "    for i, d in enumerate(documents):\n",
    "        db.add(documents=d, ids=str(i))\n",
    "\n",
    "    return db, name\n"
   ]
  },
  {
   "cell_type": "code",
   "execution_count": 21,
   "metadata": {},
   "outputs": [],
   "source": [
    "db,name =create_chroma_db(documents=text, path=db_path, name=db_name)"
   ]
  },
  {
   "cell_type": "code",
   "execution_count": 10,
   "metadata": {},
   "outputs": [],
   "source": [
    "def load_chroma_collection(path, name):\n",
    "    \"\"\"\n",
    "    Loads an existing Chroma collection from the specified path with the given name.\n",
    "\n",
    "    Parameters:\n",
    "    - path (str): The path where the Chroma database is stored.\n",
    "    - name (str): The name of the collection within the Chroma database.\n",
    "\n",
    "    Returns:\n",
    "    - chromadb.Collection: The loaded Chroma Collection.\n",
    "    \"\"\"\n",
    "    chroma_client = chromadb.PersistentClient(path=path)\n",
    "    db = chroma_client.get_collection(name=name, embedding_function=GeminiEmbeddingFunction())\n",
    "\n",
    "    return db\n"
   ]
  },
  {
   "cell_type": "code",
   "execution_count": 22,
   "metadata": {},
   "outputs": [],
   "source": [
    "db=path=load_chroma_collection(db_path, name=db_name)"
   ]
  },
  {
   "cell_type": "markdown",
   "metadata": {},
   "source": [
    "# Retrieval"
   ]
  },
  {
   "cell_type": "code",
   "execution_count": 12,
   "metadata": {},
   "outputs": [],
   "source": [
    "def get_relevant_passage(query, db, n_results):\n",
    "  passage = db.query(query_texts=[query], n_results=n_results)['documents'][0]\n",
    "  return passage"
   ]
  },
  {
   "cell_type": "code",
   "execution_count": 23,
   "metadata": {},
   "outputs": [],
   "source": [
    "relevant_text = get_relevant_passage(\"One of the keys to recovering from an attack\",db,3)"
   ]
  },
  {
   "cell_type": "code",
   "execution_count": null,
   "metadata": {},
   "outputs": [],
   "source": []
  },
  {
   "cell_type": "code",
   "execution_count": 26,
   "metadata": {},
   "outputs": [
    {
     "name": "stdout",
     "output_type": "stream",
     "text": [
      "['context. A key insight about security is to realize that any given system, no\\nmatter how “secure,” can probably be broken. In the end, security must\\nbe understood in terms of a simple question: Secure against what and\\nfrom whom?\\nUnderstanding security is best understood by thinking about goals.\\nWhat is it we are trying to protect? From whom are we protecting it? How\\ncan we get what we want?\\nPrevention\\nAs in today’s criminal justice system, much more attention is paid to security\\nafter something bad happens than before. In both cases, an ounce of preven-\\ntion is probably worth a pound of punishment.\\nInternet time compresses not only the software development life cycle\\n(making software risk management a real challenge), it also directly affects\\nthe propagation of attacks. Once a successful attack on a vulnerability is\\nfound, the attack spreads like wildﬁre on the Internet. Often, the attack is\\nembedded in a simple script, so that an attacker requires no more skill than\\nthe ability to hit return in order to carry it out.\\nInternet time is the enemy of software security. Automated Internet-\\nbased attacks on software are a serious threat that must be factored into\\nthe risk management equation. This makes prevention more important\\nthan ever.\\nTraceability and Auditing\\nBecause there is no such thing as 100% security, attacks will happen. One\\nof the keys to recovering from an attack is to know who did what, and\\nwhen they did it. Although auditing is not a direct prevention technology,\\nknowing that there is a system for accountability may in some cases dis-\\nsuade potential attackers.\\nAuditing is well understood by accountants, who have practiced\\ndouble-entry bookkeeping for more than 500 years. Banks and other\\nﬁnancial institutions have entire divisions devoted to auditing. Most\\nbusinesses audit their inventories. Every public company has its books\\naudited by a designated accounting ﬁrm to meet Security Exchange\\nCommission regulations. Any system in which security is important\\nshould seriously consider including auditing.\\nGood auditing and traceability measures are essential for forensics.\\nThey help detect, dissect, and demonstrate an attack. They show who did\\nwhat when, and provide critical evidence in court proceedings.\\nSecurity Goals\\n19\\n', 'Good software security practices can help ensure that software behaves\\nproperly. Safety-critical and high-assurance system designers have always\\ntaken great pains to analyze and to track software behavior. Security-critical\\nsystem designers must follow suit. We can avoid the Band-Aid-like penetrate-\\nand-patch approach to security only by considering security as a crucial\\nsystem property. This requires integrating software security into your entire\\nsoftware engineering process—a topic that we take up in the next chapter.\\n28\\nChapter 1 Introduction to Software Security\\n', '“. . . any program, no matter how innocuous it seems,\\ncan harbor security holes. . . . We thus have a ﬁrm belief \\nthat everything is guilty until proven innocent.”\\n—William Cheswick and Steve Bellovin\\nFIREWALLS AND INTERNET SECURITY\\nC\\nomputer security is an important topic. As e-commerce blossoms,\\nand the Internet works its way into every nook and cranny of our lives,\\nsecurity and privacy come to play an essential role. Computer security is\\nmoving beyond the realm of the technical elite, and is beginning to have a\\nreal impact on our everyday lives.\\nIt is no big surprise, then, that security seems to be popping up every-\\nwhere, from headline news to TV talk shows. Because the general public\\ndoesn’t know very much about security, a majority of the words devoted to\\ncomputer security cover basic technology issues such as what ﬁrewalls are,\\nwhat cryptography is, or which antivirus product is best. Much of the rest\\nof computer security coverage centers around the “hot topic of the day,”\\nusually involving an out-of-control virus or a malicious attack. Historically,\\nthe popular press pays much attention to viruses and denial-of-service\\nattacks: Many people remember hearing about the Anna Kournikova\\nworm, the “Love Bug,” or the Melissa virus ad nauseam. These topics are\\nimportant, to be sure. Nonetheless, the media generally manages not to get\\nto the heart of the matter when reporting these subjects. Behind every\\ncomputer security problem and malicious attack lies a common enemy—\\nbad software.\\nIntroduction to Software Security\\n1\\n1\\n']\n"
     ]
    }
   ],
   "source": [
    "print(relevant_text)\n",
    "with open('temp2.txt', 'w') as file:\n",
    "    file.writelines(relevant_text)"
   ]
  },
  {
   "cell_type": "markdown",
   "metadata": {},
   "source": [
    "# Generation"
   ]
  },
  {
   "cell_type": "code",
   "execution_count": 27,
   "metadata": {},
   "outputs": [],
   "source": [
    "def make_rag_prompt(query, relevant_passage):\n",
    "  escaped = relevant_passage.replace(\"'\", \"\").replace('\"', \"\").replace(\"\\n\", \" \")\n",
    "  prompt = (\"\"\"You are a helpful and informative bot that answers questions using text from the reference passage included below. \\\n",
    "  Be sure to respond in a complete sentence, being comprehensive, including all relevant background information. \\\n",
    "  However, you are talking to a non-technical audience, so be sure to break down complicated concepts and \\\n",
    "  strike a friendly and converstional tone. \\\n",
    "  If the passage is irrelevant to the answer, you may ignore it.\n",
    "  QUESTION: '{query}'\n",
    "  PASSAGE: '{relevant_passage}'\n",
    "\n",
    "  ANSWER:\n",
    "  \"\"\").format(query=query, relevant_passage=escaped)\n",
    "\n",
    "  return prompt"
   ]
  },
  {
   "cell_type": "code",
   "execution_count": 28,
   "metadata": {},
   "outputs": [],
   "source": [
    "import google.generativeai as genai\n",
    "def generate_response(prompt):\n",
    "    gemini_api_key = os.getenv(\"GEMINI_API_KEY\")\n",
    "    if not gemini_api_key:\n",
    "        raise ValueError(\"Gemini API Key not provided. Please provide GEMINI_API_KEY as an environment variable\")\n",
    "    genai.configure(api_key=gemini_api_key)\n",
    "    model = genai.GenerativeModel('gemini-pro')\n",
    "    answer = model.generate_content(prompt)\n",
    "    return answer.text"
   ]
  },
  {
   "cell_type": "code",
   "execution_count": null,
   "metadata": {},
   "outputs": [],
   "source": []
  },
  {
   "cell_type": "markdown",
   "metadata": {},
   "source": [
    "# Bringing it all together"
   ]
  },
  {
   "cell_type": "code",
   "execution_count": 29,
   "metadata": {},
   "outputs": [],
   "source": [
    "\n",
    "def generate_answer(db,query):\n",
    "    #retrieve top 3 relevant text chunks\n",
    "    relevant_text = get_relevant_passage(query,db,n_results=3)\n",
    "    prompt = make_rag_prompt(query, \n",
    "                             relevant_passage=\"\".join(relevant_text)) # joining the relevant chunks to create a single passage\n",
    "    answer = generate_response(prompt)\n",
    "\n",
    "    return answer\n",
    "    \n",
    "    \n",
    "    "
   ]
  },
  {
   "cell_type": "code",
   "execution_count": 30,
   "metadata": {},
   "outputs": [
    {
     "name": "stdout",
     "output_type": "stream",
     "text": [
      "Auditing is best understood by accountants, banks, other financial institutions, and most businesses who routinely audit their inventories.  Public companies must even have their records audited by accounting firms to meet Security Exchange Commission (SEC) regulations.\n"
     ]
    }
   ],
   "source": [
    "db=load_chroma_collection(path=db_path, #replace with path of your persistent directory\n",
    "                          name=db_name) #replace with the collection name\n",
    "\n",
    "answer = generate_answer(db,query=\"Who understand the auditing well?\")\n",
    "print(answer)\n"
   ]
  },
  {
   "cell_type": "code",
   "execution_count": null,
   "metadata": {},
   "outputs": [],
   "source": []
  }
 ],
 "metadata": {
  "kernelspec": {
   "display_name": "gemini",
   "language": "python",
   "name": "python3"
  },
  "language_info": {
   "codemirror_mode": {
    "name": "ipython",
    "version": 3
   },
   "file_extension": ".py",
   "mimetype": "text/x-python",
   "name": "python",
   "nbconvert_exporter": "python",
   "pygments_lexer": "ipython3",
   "version": "3.9.19"
  }
 },
 "nbformat": 4,
 "nbformat_minor": 2
}
